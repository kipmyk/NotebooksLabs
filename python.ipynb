{
 "cells": [
  {
   "cell_type": "code",
   "execution_count": 1,
   "id": "e6c036bf-a8fb-4ce5-8862-c59a212a8113",
   "metadata": {},
   "outputs": [],
   "source": [
    "name = \"Orange\"\n",
    "numbers = 600"
   ]
  },
  {
   "cell_type": "code",
   "execution_count": 3,
   "id": "c8d67577-b458-4497-ba4d-97b8ada98350",
   "metadata": {},
   "outputs": [
    {
     "name": "stdout",
     "output_type": "stream",
     "text": [
      "Orange value is 600\n"
     ]
    }
   ],
   "source": [
    "print( name + ' value is ' + str(numbers) )"
   ]
  },
  {
   "cell_type": "code",
   "execution_count": null,
   "id": "64a1448f-304f-4e8d-ab1e-0b29da780ec8",
   "metadata": {},
   "outputs": [],
   "source": []
  }
 ],
 "metadata": {
  "kernelspec": {
   "display_name": "Python 3 (ipykernel)",
   "language": "python",
   "name": "python3"
  },
  "language_info": {
   "codemirror_mode": {
    "name": "ipython",
    "version": 3
   },
   "file_extension": ".py",
   "mimetype": "text/x-python",
   "name": "python",
   "nbconvert_exporter": "python",
   "pygments_lexer": "ipython3",
   "version": "3.13.3"
  }
 },
 "nbformat": 4,
 "nbformat_minor": 5
}
