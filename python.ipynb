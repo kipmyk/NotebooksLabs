{
 "cells": [
  {
   "cell_type": "code",
   "execution_count": 1,
   "id": "e6c036bf-a8fb-4ce5-8862-c59a212a8113",
   "metadata": {},
   "outputs": [],
   "source": [
    "name = \"Orange\"\n",
    "numbers = 600"
   ]
  },
  {
   "cell_type": "code",
   "execution_count": 4,
   "id": "c8d67577-b458-4497-ba4d-97b8ada98350",
   "metadata": {},
   "outputs": [
    {
     "name": "stdout",
     "output_type": "stream",
     "text": [
      "Orange value is 600\n"
     ]
    }
   ],
   "source": [
    "print( name + ' value is ' + str(numbers) )"
   ]
  },
  {
   "cell_type": "code",
   "execution_count": null,
   "id": "b39504e8-155c-496a-9d11-a37eca330401",
   "metadata": {},
   "outputs": [],
   "source": []
  }
 ],
 "metadata": {
  "kernelspec": {
   "display_name": "Python 3 (ipykernel)",
   "language": "python",
   "name": "python3"
  },
  "language_info": {
   "codemirror_mode": {
    "name": "ipython",
    "version": 3
   },
   "file_extension": ".py",
   "mimetype": "text/x-python",
   "name": "python",
   "nbconvert_exporter": "python",
   "pygments_lexer": "ipython3",
   "version": "3.13.3"
  }
 },
 "nbformat": 4,
 "nbformat_minor": 5
}
