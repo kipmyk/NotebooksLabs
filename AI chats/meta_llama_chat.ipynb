{
 "cells": [
  {
   "cell_type": "code",
   "execution_count": 1,
   "id": "d0882859-96f0-4f1c-bc9b-de366b2c7620",
   "metadata": {},
   "outputs": [
    {
     "name": "stdin",
     "output_type": "stream",
     "text": [
      "You:  exit\n"
     ]
    }
   ],
   "source": [
    "from dotenv import load_dotenv\n",
    "import os\n",
    "import requests\n",
    "import json\n",
    "\n",
    "# Load .env file from specific path\n",
    "load_dotenv(os.path.expanduser(\"~/.env\"))\n",
    "\n",
    "# Get the API key\n",
    "api_key = os.getenv(\"meta_llama_api_key\")\n",
    "if not api_key:\n",
    "    print(\"Error: API key not found. Check .env file at /Volumes/mike/Code/Python/.env\")\n",
    "    exit(1)\n",
    "\n",
    "# Rest of your code\n",
    "chat_history = []\n",
    "\n",
    "while True:\n",
    "    user_input = input(\"You: \")\n",
    "    if user_input.lower() in [\"exit\", \"quit\"]:\n",
    "        break\n",
    "\n",
    "    chat_history.append({\"role\": \"user\", \"content\": user_input})\n",
    "\n",
    "    try:\n",
    "        response = requests.post(\n",
    "            url=\"https://openrouter.ai/api/v1/chat/completions\",\n",
    "            headers={\n",
    "                \"Authorization\": f\"Bearer {api_key}\",\n",
    "                \"Content-Type\": \"application/json\",\n",
    "            },\n",
    "            data=json.dumps({\n",
    "                \"model\": \"meta-llama/llama-3.3-8b-instruct:free\",\n",
    "                \"messages\": chat_history\n",
    "            })\n",
    "        )\n",
    "        response.raise_for_status()  # Raises an error for non-200 status codes\n",
    "\n",
    "        data = response.json()\n",
    "        print(f\"Raw Response: {data}\")  # Debug: Print the full response\n",
    "\n",
    "        if 'choices' in data and len(data['choices']) > 0:\n",
    "            assistant_message = data['choices'][0]['message']['content']\n",
    "            print(f\"Assistant: {assistant_message}\\n\")\n",
    "            chat_history.append({\"role\": \"assistant\", \"content\": assistant_message})\n",
    "        else:\n",
    "            print(f\"Unexpected response format: {data}\")\n",
    "\n",
    "    except requests.exceptions.HTTPError as http_err:\n",
    "        print(f\"HTTP error: {http_err} - Response: {response.text}\")\n",
    "    except requests.exceptions.RequestException as req_err:\n",
    "        print(f\"Request error: {req_err}\")\n",
    "    except KeyError as key_err:\n",
    "        print(f\"KeyError: {key_err} - Response: {data}\")\n",
    "    except json.JSONDecodeError:\n",
    "        print(f\"Invalid JSON response: {response.text}\")\n",
    "        "
   ]
  },
  {
   "cell_type": "code",
   "execution_count": null,
   "id": "e15599c2-fb67-497e-9004-c01665e1b327",
   "metadata": {},
   "outputs": [],
   "source": []
  }
 ],
 "metadata": {
  "kernelspec": {
   "display_name": "Python 3 (ipykernel)",
   "language": "python",
   "name": "python3"
  },
  "language_info": {
   "codemirror_mode": {
    "name": "ipython",
    "version": 3
   },
   "file_extension": ".py",
   "mimetype": "text/x-python",
   "name": "python",
   "nbconvert_exporter": "python",
   "pygments_lexer": "ipython3",
   "version": "3.12.7"
  }
 },
 "nbformat": 4,
 "nbformat_minor": 5
}
