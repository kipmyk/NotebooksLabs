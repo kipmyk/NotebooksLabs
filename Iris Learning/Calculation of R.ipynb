{
 "cells": [
  {
   "cell_type": "code",
   "execution_count": 4,
   "id": "461329b1-87b1-4284-bfe1-3527497abd26",
   "metadata": {},
   "outputs": [],
   "source": [
    "%matplotlib inline\n",
    "import numpy as np\n",
    "import pandas as pd\n",
    "import matplotlib.pyplot as plt\n",
    "plt.rcParams['figure.figsize'] = ( 21.0, 11.0)\n",
    "\n",
    "# Reading data\n",
    "data = pd.read_csv(\"headbrain.csv\")\n",
    "print(data.shape)\n",
    "data.head\n"
   ]
  },
  {
   "cell_type": "code",
   "execution_count": null,
   "id": "3d729e24-bb42-48ec-a101-a42c39eca3b5",
   "metadata": {},
   "outputs": [],
   "source": []
  }
 ],
 "metadata": {
  "kernelspec": {
   "display_name": "Python [conda env:base] *",
   "language": "python",
   "name": "conda-base-py"
  },
  "language_info": {
   "codemirror_mode": {
    "name": "ipython",
    "version": 3
   },
   "file_extension": ".py",
   "mimetype": "text/x-python",
   "name": "python",
   "nbconvert_exporter": "python",
   "pygments_lexer": "ipython3",
   "version": "3.12.7"
  }
 },
 "nbformat": 4,
 "nbformat_minor": 5
}
