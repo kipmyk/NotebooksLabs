{
 "cells": [
  {
   "cell_type": "code",
   "execution_count": 1,
   "id": "ab4d3f65-418b-4f36-b613-f270c1531dbf",
   "metadata": {},
   "outputs": [
    {
     "name": "stdin",
     "output_type": "stream",
     "text": [
      "You:  exit\n"
     ]
    }
   ],
   "source": [
    "from dotenv import load_dotenv\n",
    "import os\n",
    "import requests\n",
    "import json\n",
    "\n",
    "# Load .env file from specific path\n",
    "load_dotenv(\"/Volumes/mike/Code/Python/.env\")\n",
    "\n",
    "api_key = os.getenv(\"microsoft_api_key\")  # Replace with your actual API key\n",
    "\n",
    "chat_history = []\n",
    "\n",
    "while True:\n",
    "    user_input = input(\"You: \")\n",
    "    if user_input.lower() in [\"exit\", \"quit\"]:\n",
    "        break\n",
    "\n",
    "    chat_history.append({\"role\": \"user\", \"content\": user_input})\n",
    "\n",
    "    response = requests.post(\n",
    "        url=\"https://openrouter.ai/api/v1/chat/completions\",\n",
    "        headers={\n",
    "            \"Authorization\": f\"Bearer {api_key}\",\n",
    "            \"Content-Type\": \"application/json\",\n",
    "        },\n",
    "        data=json.dumps({\n",
    "            \"model\": \"microsoft/phi-4-reasoning:free\",\n",
    "            \"messages\": chat_history\n",
    "        })\n",
    "    )\n",
    "\n",
    "    assistant_message = response.json()['choices'][0]['message']['content']\n",
    "    print(f\"Assistant: {assistant_message}\\n\")\n",
    "\n",
    "    chat_history.append({\"role\": \"assistant\", \"content\": assistant_message})\n",
    "    "
   ]
  },
  {
   "cell_type": "code",
   "execution_count": null,
   "id": "622d74be-b7b1-444b-8aba-9b955615e723",
   "metadata": {},
   "outputs": [],
   "source": []
  }
 ],
 "metadata": {
  "kernelspec": {
   "display_name": "Python 3 (ipykernel)",
   "language": "python",
   "name": "python3"
  },
  "language_info": {
   "codemirror_mode": {
    "name": "ipython",
    "version": 3
   },
   "file_extension": ".py",
   "mimetype": "text/x-python",
   "name": "python",
   "nbconvert_exporter": "python",
   "pygments_lexer": "ipython3",
   "version": "3.13.3"
  }
 },
 "nbformat": 4,
 "nbformat_minor": 5
}
